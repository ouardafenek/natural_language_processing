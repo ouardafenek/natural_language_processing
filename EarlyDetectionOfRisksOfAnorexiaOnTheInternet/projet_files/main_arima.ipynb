{
 "cells": [
  {
   "cell_type": "code",
   "execution_count": 1,
   "metadata": {},
   "outputs": [],
   "source": [
    "import nltk\n",
    "import sys\n",
    "import os\n",
    "from lxml import etree\n",
    "import datetime\n",
    "import numpy as np\n",
    "from parser import * "
   ]
  },
  {
   "cell_type": "code",
   "execution_count": 4,
   "metadata": {},
   "outputs": [],
   "source": [
    "trainPath = \"trainingData/train\"\n",
    "testPath = \"trainingData/test\"\n",
    "features = ['text','meanTimeGapBetweenWritings','meanLengthOfWritings']\n",
    "nbChunks = 10 "
   ]
  },
  {
   "cell_type": "code",
   "execution_count": 7,
   "metadata": {},
   "outputs": [],
   "source": [
    "trainSubjects = parsing (trainPath, features,nbChunks)\n",
    "trainLabels = labelingTrain(trainPath)\n",
    "testSubjects = parsing (testPath, features,nbChunks)\n",
    "testLabels = labelingTest(testPath)"
   ]
  },
  {
   "cell_type": "code",
   "execution_count": 9,
   "metadata": {},
   "outputs": [],
   "source": [
    "def PrintData(data,nb_subjects):\n",
    "    # la fonction affiche nb_subjects du dictinnaire\n",
    "    cpt=0\n",
    "    for idsubject in data.keys():\n",
    "        if cpt < nb_subjects :\n",
    "            print(\"id_subject=  \",  idsubject)\n",
    "            for numchunk in range(1,nbChunks+1):\n",
    "                print (\"\\nchunk\",numchunk, \" =>\")\n",
    "                for t in range(len(data[idsubject][numchunk]['text'])):\n",
    "                    print(\"writing \", t , \"=>\\n\")\n",
    "                    print(data[idsubject][numchunk]['text'], \"\\n\")\n",
    "        print(\"\\n\")\n",
    "        cpt += 1\n",
    "            \n",
    "#PrintData(trainSubjects,1)    "
   ]
  },
  {
   "cell_type": "code",
   "execution_count": 10,
   "metadata": {},
   "outputs": [],
   "source": [
    "import gensim\n",
    "from gensim import corpora,models, similarities\n",
    "from sklearn.metrics import confusion_matrix\n",
    "from sklearn.preprocessing import LabelEncoder\n",
    "from sklearn.linear_model import LogisticRegression\n",
    "from sklearn.model_selection import GridSearchCV\n",
    "from gensim.models.ldamulticore import LdaMulticore\n",
    "from gensim.corpora import Dictionary\n",
    "from sklearn.ensemble import RandomForestClassifier\n",
    "from sklearn.metrics import f1_score\n",
    "from sklearn.neighbors import KNeighborsClassifier"
   ]
  },
  {
   "cell_type": "code",
   "execution_count": 23,
   "metadata": {},
   "outputs": [],
   "source": [
    "def DictConcatenate(d):\n",
    "    a = \"\"\n",
    "    for key in d.keys():\n",
    "        a +=d[key]\n",
    "    return a\n",
    "\n",
    "\n",
    "def extractingTextsAll(trainSubjects, trainLabels ,tokens_only=False ):\n",
    "    # cette fonction retourne tous les writings de chaque utilisateur \n",
    "   \n",
    "    for k in trainSubjects.keys() :\n",
    "        for j in range (1,11):\n",
    "            for t in (trainSubjects[k][j]['text']).keys():\n",
    "                # si tokens_only alors c'est les données test\n",
    "                if tokens_only:\n",
    "                    Ytest.append(trainLabels[k])\n",
    "                    yield gensim.utils.simple_preprocess(trainSubjects[k][j]['text'][t])\n",
    "                else:\n",
    "                    # les données sont celle de  training data et on ajoute les tags\n",
    "                    yield gensim.models.doc2vec.TaggedDocument(gensim.utils.simple_preprocess(trainSubjects[k][j]['text'][t]), [trainLabels[k]])\n",
    "            \n",
    "#pour gensim\n",
    "def extractingNchuncks(trainSubjects, trainLabels ,chunck):\n",
    "    # cette fonction retourne tous les writings de chaque utilisateur \n",
    "   \n",
    "    for k in trainSubjects.keys() :\n",
    "        for j in range (1,chunck+1):\n",
    "            # les données sont celle de  training data et on ajoute les tags\n",
    "            yield gensim.models.doc2vec.TaggedDocument(gensim.utils.simple_preprocess(DictConcatenate(trainSubjects[k][j]['text'])), [trainLabels[k]])"
   ]
  },
  {
   "cell_type": "code",
   "execution_count": 24,
   "metadata": {},
   "outputs": [],
   "source": [
    "def F1(Y , Yhat):\n",
    "    totalMatGs = np.zeros((2,2))\n",
    "    totalMatGs = totalMatGs + confusion_matrix(Y , Yhat)\n",
    "    print(confusion_matrix(Y , Yhat))\n",
    "    precision , recall = getEvalResults(totalMatGs)\n",
    "    print(\"  Precison = \",round(precision,2))\n",
    "    print(\"  Recall = \",round(recall,2))\n",
    "    print(\"f1_score calculé = \", ( 2 * (precision * recall)/(precision + recall) ))\n",
    "    print(\"f1_score  = \", f1_score(Y , Yhat, average='micro'))"
   ]
  },
  {
   "cell_type": "code",
   "execution_count": 12,
   "metadata": {},
   "outputs": [],
   "source": [
    "Xtrain = list(extractingTextsAll(trainSubjects, trainLabels))\n",
    "train , Ytrain = list(x[0] for x in Xtrain),list(x[1][0] for x in Xtrain)\n",
    "X = list(extractingTextsAll(testSubjects, testLabels))\n",
    "Xtest,Ytest = list(x[0] for x in X),list(x[1][0] for x in X)"
   ]
  },
  {
   "cell_type": "code",
   "execution_count": 25,
   "metadata": {},
   "outputs": [],
   "source": [
    "def GensimMethode(Xtrain , epochs):\n",
    "    \n",
    "    model = gensim.models.doc2vec.Doc2Vec(vector_size=50, min_count=2, epochs=epochs)\n",
    "    model.build_vocab(Xtrain)\n",
    "    model.train(Xtrain, total_examples=model.corpus_count, epochs=model.epochs)\n",
    "    return model\n"
   ]
  },
  {
   "cell_type": "code",
   "execution_count": 26,
   "metadata": {},
   "outputs": [],
   "source": [
    "model = GensimMethode(Xtrain , 20)"
   ]
  },
  {
   "cell_type": "code",
   "execution_count": 36,
   "metadata": {},
   "outputs": [],
   "source": [
    "#ces fonctions retournent les representation gensim des writings sous forme d'une matrice\n",
    "def ExtractVectorstrain( model, Xtrain, Ytrain):\n",
    "    \n",
    "    label_encoder = LabelEncoder()\n",
    "    label_encoder.fit(Ytrain)\n",
    "    label_train = label_encoder.transform(Ytrain)\n",
    "\n",
    "    trainSub = []\n",
    "    for doc_id in range(len(Xtrain)):\n",
    "        trainSub.append(model.infer_vector(Xtrain[doc_id]))\n",
    "    trainSub = np.array(trainSub)  \n",
    "    return trainSub ,    label_train\n",
    "def ExtractVectorstest(Xtest, Ytest):\n",
    "    label_t = LabelEncoder()\n",
    "    label_t.fit(Ytrain)\n",
    "    label_test = label_t.transform(Ytest)\n",
    "\n",
    "    testSub = []\n",
    "    for doc_id in range(len(Xtest)):\n",
    "        testSub.append(model.infer_vector(Xtest[doc_id]))\n",
    "    testSub = np.array(testSub)\n",
    "    return testSub,    label_test"
   ]
  },
  {
   "cell_type": "code",
   "execution_count": null,
   "metadata": {},
   "outputs": [],
   "source": [
    "trainSub = []\n",
    "for doc_id in range(len(Ytrain)):\n",
    "    trainSub.append(model.infer_vector(train[doc_id]))\n",
    "trainSub = np.array(trainSub)"
   ]
  },
  {
   "cell_type": "code",
   "execution_count": null,
   "metadata": {},
   "outputs": [],
   "source": [
    "testSub = []\n",
    "for doc_id in range(len(Ytest)):\n",
    "    testSub.append(model.infer_vector(Xtest[doc_id]))\n",
    "testSub = np.array(testSub)"
   ]
  },
  {
   "cell_type": "code",
   "execution_count": null,
   "metadata": {},
   "outputs": [],
   "source": [
    "label_encoder = LabelEncoder()\n",
    "\n",
    "label_encoder.fit(Ytrain)\n",
    "label_train = label_encoder.transform(Ytrain)\n",
    "label_train"
   ]
  },
  {
   "cell_type": "code",
   "execution_count": null,
   "metadata": {},
   "outputs": [],
   "source": [
    "label_t = LabelEncoder()\n",
    "\n",
    "label_t.fit(Ytrain)\n",
    "label_test = label_t.transform(Ytest)\n",
    "label_test"
   ]
  },
  {
   "cell_type": "code",
   "execution_count": null,
   "metadata": {},
   "outputs": [],
   "source": [
    "def modelTest(SubjectsTrain,SubjectsTest,SubjectsLabels):   \n",
    "    # cette fonction retourne le score de classification et le vecteur predit en utilisant just la fonction similarity de gensim\n",
    "    score=0\n",
    "    PredictedLabels = []\n",
    "    for doc_id in range(len(SubjectsTest)):\n",
    "        inferred_vector = model.infer_vector(SubjectsTest[doc_id])\n",
    "        sims = model.docvecs.most_similar([inferred_vector], topn=len(model.docvecs))\n",
    "        #Affichage du contenue du writing et les similarities avec les writing du train\n",
    "        \n",
    "        # Compare and print the most/median/least similar documents from the train corpus\n",
    "        #print('Test Document ({}): «{}»\\n'.format(doc_id, ' '.join(SubjectsTest[doc_id])))\n",
    "        #print('Real label   ', SubjectsLabels[doc_id])\n",
    "        #print(u'SIMILAR/DISSIMILAR DOCS PER MODEL %s:\\n' % model)\n",
    "        i=0\n",
    "        for label, index in [('MOST', 0), ('MEDIAN', len(sims)//2), ('LEAST', len(sims) - 1)]:\n",
    "            \n",
    "            if  i==0 :\n",
    "                PredictedLabels.append(sims[index][0])\n",
    "                if sims[index][0]==SubjectsLabels[doc_id]:\n",
    "                    score +=1\n",
    "            i += 1\n",
    "            #print(u'%s %s: «%s»\\n' % (label, sims[index], ' '.join(SubjectsTrain[sims[index][0]].words)))\n",
    "    return score , np.array(PredictedLabels)"
   ]
  },
  {
   "cell_type": "code",
   "execution_count": null,
   "metadata": {},
   "outputs": [],
   "source": [
    "# test pour chaque  writing\n",
    "score, PredictedLabels = modelTest(Xtrain,Xtest,Ytest)\n",
    "print(score/len(Xtest))"
   ]
  },
  {
   "cell_type": "code",
   "execution_count": null,
   "metadata": {},
   "outputs": [],
   "source": [
    "print(\"Gensim N writings User Resultat\")\n",
    "F1(Ytest, PredictedLabels )"
   ]
  },
  {
   "cell_type": "code",
   "execution_count": null,
   "metadata": {},
   "outputs": [],
   "source": [
    "def classificationSubjectsGensim(testSubjects, testLabels,PredictedLabels):\n",
    "    #parametres\n",
    "    #subjectslabels  c'est vraix labels \n",
    "    #predictedLabels c'est les labels predit\n",
    "    #SubjectsTest    l'ensemble de test recuperer dès le debut\n",
    "    score = 0\n",
    "    start = 0\n",
    "    pred_resultat = []\n",
    "    test_LabelRes = []\n",
    "    for k in testSubjects.keys() :\n",
    "        #print(\"\\n\", k)\n",
    "        subjectNbWriting = 0\n",
    "        for j in range (1,11):\n",
    "               subjectNbWriting += len(testSubjects[k][j]['text'])\n",
    "                \n",
    "        #on recupere les predictions de tous les writings de l'utilisateur\n",
    "        vecteurPredict = PredictedLabels[start:start+subjectNbWriting]\n",
    "        #print(vecteurPredict)\n",
    "        pZero = np.count_nonzero(vecteurPredict == 0)\n",
    "        pOne  = np.count_nonzero(vecteurPredict == 1)\n",
    "        predLabel = (0 if pZero > pOne else 1)\n",
    "        pred_resultat.append(predLabel)\n",
    "        test_LabelRes.append(testLabels[k])\n",
    "        #print(pZero, \" \",pOne, \" \",predLabel)\n",
    "\n",
    "        if predLabel == testLabels[k] : \n",
    "               score +=1\n",
    "                \n",
    "        # on recalcule pour chaque utilisateur le debut de son vecteur predit\n",
    "        start += subjectNbWriting\n",
    "        \n",
    "    return score/len(testLabels) , pred_resultat , test_LabelRes\n",
    "        "
   ]
  },
  {
   "cell_type": "code",
   "execution_count": null,
   "metadata": {},
   "outputs": [],
   "source": [
    "score_comb, pred_resultat , test_LabelRes = classificationSubjectsGensim(testSubjects, testLabels,PredictedLabels)\n",
    "print(score_comb)"
   ]
  },
  {
   "cell_type": "code",
   "execution_count": null,
   "metadata": {},
   "outputs": [],
   "source": [
    "print(\"Gensim User Resultat i,e: on prend la classe majoritaire de chaque vecteur d'un user\")\n",
    "F1(test_LabelRes, pred_resultat )\n"
   ]
  },
  {
   "cell_type": "code",
   "execution_count": null,
   "metadata": {},
   "outputs": [],
   "source": [
    "from sklearn.metrics import precision_recall_curve\n",
    "from sklearn.metrics import average_precision_score\n",
    "y1 = [i if i==1 else -1 for i in Ytest]\n",
    "y2 = [i if i==1 else -1 for i in PredictedLabels]\n",
    "precision, recall, _ = precision_recall_curve(y1,y2)\n",
    "print(\"  Precison = \",precision)\n",
    "print(\"  Recall = \",recall)\n",
    "average_precision = average_precision_score(y1,y2)\n",
    "\n",
    "print('Average precision-recall score: {0:0.2f}'.format(average_precision))"
   ]
  },
  {
   "cell_type": "code",
   "execution_count": null,
   "metadata": {},
   "outputs": [],
   "source": [
    "#### Nouvelle méthode avec logistic regression"
   ]
  },
  {
   "cell_type": "code",
   "execution_count": null,
   "metadata": {},
   "outputs": [],
   "source": [
    "def TestMethod(meth, Xtrain, Xtest, Ytrain, Ytest):\n",
    "    meth.fit(Xtrain,Ytrain)\n",
    "    Ypred = meth.predict(Xtest)\n",
    "    score = meth.score(Xtest ,Ytest)\n",
    "    print(\"score = \" ,score)\n",
    "    F1(Ytest , Ypred)\n",
    "    return  score, Ypred\n",
    "\n",
    "\n",
    "\n",
    "\n",
    "\n",
    "def TestApp2(meth , trainSubjects, trainLabels  ,Xtest , Ytest):\n",
    "    Xtrain ,Ytrain = extractingNchuncks(trainSubjects, trainLabels )\n",
    "    "
   ]
  },
  {
   "cell_type": "code",
   "execution_count": null,
   "metadata": {},
   "outputs": [],
   "source": [
    "# Word2Vec features only logistic regression\n",
    "lr1 = LogisticRegression()\n",
    "TestMethod(lr1, trainSub , testSub, label_train, label_test)\n"
   ]
  },
  {
   "cell_type": "code",
   "execution_count": null,
   "metadata": {},
   "outputs": [],
   "source": [
    "YpredGensim = lr1.predict(testSub)"
   ]
  },
  {
   "cell_type": "code",
   "execution_count": null,
   "metadata": {},
   "outputs": [],
   "source": [
    "print(lr1.score(testSub, label_test))"
   ]
  },
  {
   "cell_type": "code",
   "execution_count": null,
   "metadata": {},
   "outputs": [],
   "source": [
    "print(\"Gensim User Resultat i,e: on prend la classe majoritaire de chaque vecteur d'un user\")\n",
    "F1(label_test, YpredGensim )\n"
   ]
  },
  {
   "cell_type": "code",
   "execution_count": null,
   "metadata": {},
   "outputs": [],
   "source": [
    "s, pred_resultat1 , test_LabelRes1 = classificationSubjectsGensim(testSubjects, testLabels,YpredGensim)\n",
    "print(s)"
   ]
  },
  {
   "cell_type": "code",
   "execution_count": null,
   "metadata": {},
   "outputs": [],
   "source": [
    "print(\"Gensim User Resultat i,e: on prend la classe majoritaire de chaque vecteur d'un user\")\n",
    "F1(test_LabelRes1, pred_resultat1 )"
   ]
  },
  {
   "cell_type": "markdown",
   "metadata": {},
   "source": [
    "Random forest"
   ]
  },
  {
   "cell_type": "code",
   "execution_count": null,
   "metadata": {},
   "outputs": [],
   "source": [
    "Rfc = RandomForestClassifier(n_estimators=50)\n",
    "sRcf, YpredRfc = TestMethod(Rfc, trainSub , testSub, label_train, label_test)\n"
   ]
  },
  {
   "cell_type": "code",
   "execution_count": null,
   "metadata": {},
   "outputs": [],
   "source": [
    "sRfc, pred_resultatRfc , test_LabelResRfc = classificationSubjectsGensim(testSubjects, testLabels,YpredGensim)\n"
   ]
  },
  {
   "cell_type": "code",
   "execution_count": null,
   "metadata": {},
   "outputs": [],
   "source": [
    "F1(pred_resultatRfc , test_LabelResRfc)"
   ]
  },
  {
   "cell_type": "code",
   "execution_count": 35,
   "metadata": {},
   "outputs": [],
   "source": [
    "def ExtractVectorstest(Xtest):\n",
    "    testSub = []\n",
    "    for doc_id in range(len(Xtest)):\n",
    "        testSub.append(model.infer_vector(Xtest[doc_id]))\n",
    "    testSub = np.array(testSub)\n",
    "    return testSub\n",
    "def extractTest(testSubjects ):\n",
    "    for t in testSubjects.keys():\n",
    "        yield gensim.utils.simple_preprocess(testSubjects[t])\n",
    "                \n",
    "\n"
   ]
  },
  {
   "cell_type": "markdown",
   "metadata": {},
   "source": [
    "ERDE"
   ]
  },
  {
   "cell_type": "code",
   "execution_count": null,
   "metadata": {},
   "outputs": [],
   "source": [
    "from  math import *\n",
    "def lc(o , k):\n",
    "    return 1 - (1/(1 + exp(k-o)))\n"
   ]
  },
  {
   "cell_type": "code",
   "execution_count": null,
   "metadata": {},
   "outputs": [],
   "source": [
    "import matplotlib.pyplot as plt\n",
    "\n",
    "print(\"lc5\")\n",
    "plt.style.context(('dark_background'))\n",
    "plt.plot([k for k in range(200) ], [lc(5 , k) for k in range(200)], linestyle='--')\n",
    "plt.show()\n",
    "print(\"lc50\")\n",
    "plt.plot([k for k in range(200) ], [lc(50 , k) for k in range(200)],  linestyle='--')\n",
    "plt.show()"
   ]
  },
  {
   "cell_type": "code",
   "execution_count": null,
   "metadata": {},
   "outputs": [],
   "source": [
    "cfp = 0.1296           # d=positive AND ground truth=negative (FP)\n",
    "cfn = 1               # d=negative AND ground truth=positive (FN)\n",
    "ctp = 1"
   ]
  },
  {
   "cell_type": "code",
   "execution_count": null,
   "metadata": {},
   "outputs": [],
   "source": [
    "def ERDE(o, k, d , t) :\n",
    "    if  d== 1 and t==1:\n",
    "        return ctp * lc(o,k)\n",
    "    if  d== 1 and t==0:\n",
    "        return cfp\n",
    "    if  d== 0 and t==1:\n",
    "        return cfn\n",
    "    if  d== 0 and t==0:\n",
    "        return 0"
   ]
  },
  {
   "cell_type": "code",
   "execution_count": null,
   "metadata": {},
   "outputs": [],
   "source": [
    "\n",
    "def computingERDE(meth , testSubjects , o, seuil = 0.6 ):\n",
    "    res = 0 \n",
    "    for user ,j in zip (testSubjects.keys()  , [i for i in range(len(testSubjects))]):\n",
    "        arret = False\n",
    "        k=0\n",
    "        for numChunk in range(1,11):\n",
    "            testS = ExtractVectorstest(list(extractTest(testSubjects[user][numChunk]['text'])))\n",
    "            for i in range(len(testS)):\n",
    "                \n",
    "                a = meth.predict_proba([testS[i]])\n",
    "                Ypred = -10   #pas de décision\n",
    "                if a[0][0] >= seuil : \n",
    "                    Ypred = 0\n",
    "                if a[0][1] >= seuil : \n",
    "                    Ypred = 1\n",
    "                if (numChunk == 10 and i == (len(testS) - 1)):\n",
    "                    Ypred = 0 if a[0][0] > a[0][1] else 1\n",
    "                # si on a pris une décision alors on calcule le ERDE\n",
    "                if Ypred != -10:\n",
    "                    arret = True\n",
    "                    res += ERDE(o, k+1, Ypred ,testLabels[user] )\n",
    "                    break\n",
    "                k += 1\n",
    "            if arret :\n",
    "                break\n",
    "    return res/ len(testSubjects)\n"
   ]
  },
  {
   "cell_type": "code",
   "execution_count": null,
   "metadata": {},
   "outputs": [],
   "source": [
    "neigh = KNeighborsClassifier(n_neighbors=3)\n",
    "neigh.fit(trainSub,label_train)\n",
    "ERDE5= computingERDE(neigh , testSubjects , 5 , 0.9)\n",
    "ERDE50= computingERDE(neigh , testSubjects , 50 , 0.7)\n",
    "print(ERDE5)\n",
    "print(ERDE50)"
   ]
  },
  {
   "cell_type": "code",
   "execution_count": null,
   "metadata": {},
   "outputs": [],
   "source": [
    "lr = LogisticRegression()\n",
    "lr.fit(trainSub,label_train)\n",
    "ERDE5= computingERDE(lr , testSubjects , 5 , 0.9)\n",
    "ERDE5"
   ]
  },
  {
   "cell_type": "code",
   "execution_count": null,
   "metadata": {},
   "outputs": [],
   "source": [
    "ERDE50= computingERDE(lr , testSubjects , 50 , 0.7)\n",
    "ERDE50"
   ]
  },
  {
   "cell_type": "code",
   "execution_count": null,
   "metadata": {},
   "outputs": [],
   "source": [
    "ERDE50= computingERDE(lr , testSubjects , 50)\n",
    "ERDE50"
   ]
  },
  {
   "cell_type": "code",
   "execution_count": null,
   "metadata": {},
   "outputs": [],
   "source": [
    "ERDE50= computingERDE(lr , testSubjects , 50 , 0.5)\n",
    "ERDE50"
   ]
  },
  {
   "cell_type": "code",
   "execution_count": null,
   "metadata": {},
   "outputs": [],
   "source": [
    "Rfc = RandomForestClassifier(n_estimators=50)\n",
    "Rfc.fit(trainSub,label_train)\n",
    "ERDE5_Rfc = computingERDE(Rfc , testSubjects , 5 , 0.8)\n"
   ]
  },
  {
   "cell_type": "code",
   "execution_count": null,
   "metadata": {},
   "outputs": [],
   "source": [
    "ERDE5_Rfc"
   ]
  },
  {
   "cell_type": "code",
   "execution_count": null,
   "metadata": {},
   "outputs": [],
   "source": [
    "ERDE50_Rfc = computingERDE(Rfc , testSubjects , 50 , 0.8)\n",
    "ERDE50_Rfc"
   ]
  },
  {
   "cell_type": "code",
   "execution_count": null,
   "metadata": {},
   "outputs": [],
   "source": [
    "ERDE50_Rfc = computingERDE(Rfc , testSubjects , 50 , 0.6)\n",
    "ERDE50_Rfc"
   ]
  },
  {
   "cell_type": "code",
   "execution_count": null,
   "metadata": {},
   "outputs": [],
   "source": [
    "#get_model(trainSubjects , trainLabels)"
   ]
  },
  {
   "cell_type": "markdown",
   "metadata": {},
   "source": [
    "# Serie temporelle"
   ]
  },
  {
   "cell_type": "code",
   "execution_count": 28,
   "metadata": {},
   "outputs": [],
   "source": [
    "#train data\n",
    "Data2App = list(extractingNchuncks(trainSubjects, trainLabels ,10))\n",
    "Xtrain2App , Ytrain2App = list(x[0] for x in Data2App),list(x[1][0] for x in Data2App)"
   ]
  },
  {
   "cell_type": "code",
   "execution_count": 29,
   "metadata": {},
   "outputs": [],
   "source": [
    "#test data\n",
    "Datatest2App = list(extractingNchuncks(testSubjects, testLabels ,10 ))\n",
    "Xtest2App , Ytest2App = list(x[0] for x in Datatest2App),list(x[1][0] for x in Datatest2App)"
   ]
  },
  {
   "cell_type": "code",
   "execution_count": 30,
   "metadata": {},
   "outputs": [],
   "source": [
    "model = GensimMethode(Data2App , 20)"
   ]
  },
  {
   "cell_type": "code",
   "execution_count": 31,
   "metadata": {},
   "outputs": [],
   "source": [
    "XtrainApp , YtrainApp = ExtractVectorstrain(model, Xtrain2App , Ytrain2App)\n",
    "# à suivre avec ça"
   ]
  },
  {
   "cell_type": "code",
   "execution_count": null,
   "metadata": {},
   "outputs": [],
   "source": [
    "XtrainApp"
   ]
  },
  {
   "cell_type": "code",
   "execution_count": 38,
   "metadata": {},
   "outputs": [],
   "source": [
    "XtestApp , YtestApp = ExtractVectorstrain( model, Xtest2App , Ytest2App)"
   ]
  },
  {
   "cell_type": "code",
   "execution_count": 33,
   "metadata": {},
   "outputs": [
    {
     "name": "stderr",
     "output_type": "stream",
     "text": [
      "/home/nora/anaconda3/lib/python3.7/site-packages/sklearn/linear_model/logistic.py:433: FutureWarning: Default solver will be changed to 'lbfgs' in 0.22. Specify a solver to silence this warning.\n",
      "  FutureWarning)\n"
     ]
    },
    {
     "data": {
      "text/plain": [
       "LogisticRegression(C=1.0, class_weight=None, dual=False, fit_intercept=True,\n",
       "          intercept_scaling=1, max_iter=100, multi_class='warn',\n",
       "          n_jobs=None, penalty='l2', random_state=None, solver='warn',\n",
       "          tol=0.0001, verbose=0, warm_start=False)"
      ]
     },
     "execution_count": 33,
     "metadata": {},
     "output_type": "execute_result"
    }
   ],
   "source": [
    "#deux chuncks\n",
    "GensimMethode(Data2App , 20)\n",
    "lrG = LogisticRegression()\n",
    "lrG.fit(XtrainApp , YtrainApp)\n",
    "\n",
    "    "
   ]
  },
  {
   "cell_type": "code",
   "execution_count": 39,
   "metadata": {},
   "outputs": [],
   "source": [
    "testDic = {}\n",
    "for key in range(0, len(XtestApp) , 10):\n",
    "    testDic[key] = lrG.predict_proba(XtestApp[key : key+10])"
   ]
  },
  {
   "cell_type": "code",
   "execution_count": null,
   "metadata": {},
   "outputs": [],
   "source": []
  },
  {
   "cell_type": "code",
   "execution_count": 40,
   "metadata": {},
   "outputs": [
    {
     "data": {
      "text/plain": [
       "array([[0.04790292, 0.95209708],\n",
       "       [0.44967716, 0.55032284],\n",
       "       [0.86318747, 0.13681253],\n",
       "       [0.16846763, 0.83153237],\n",
       "       [0.70404163, 0.29595837],\n",
       "       [0.42924468, 0.57075532],\n",
       "       [0.80039365, 0.19960635],\n",
       "       [0.64941857, 0.35058143],\n",
       "       [0.86403518, 0.13596482],\n",
       "       [0.76467204, 0.23532796]])"
      ]
     },
     "execution_count": 40,
     "metadata": {},
     "output_type": "execute_result"
    }
   ],
   "source": [
    "testDic[1450]"
   ]
  },
  {
   "cell_type": "code",
   "execution_count": 41,
   "metadata": {},
   "outputs": [],
   "source": [
    "prpos = np.array([ p[0] for p in testDic[1450]])\n",
    "prneg = np.array([ p[1] for p in testDic[1450]])\n"
   ]
  },
  {
   "cell_type": "code",
   "execution_count": 42,
   "metadata": {},
   "outputs": [
    {
     "data": {
      "text/plain": [
       "array([0.18104838, 0.20046777, 0.15657071, 0.15859507, 0.13906372,\n",
       "       0.13197157, 0.12956737, 0.1282626 , 0.12386426, 0.11984482,\n",
       "       0.11815464])"
      ]
     },
     "execution_count": 42,
     "metadata": {},
     "output_type": "execute_result"
    }
   ],
   "source": [
    "from statsmodels.tsa.ar_model import AR\n",
    "model_ar = AR(prneg)\n",
    "model_ar_fit = model_ar.fit()\n",
    "model_ar_fit.predict(start = 10 , end=20)"
   ]
  },
  {
   "cell_type": "code",
   "execution_count": 43,
   "metadata": {},
   "outputs": [
    {
     "data": {
      "text/plain": [
       "array([0.87721063, 0.87392448, 0.96891683, 0.98592556, 1.05271282,\n",
       "       1.07670114, 1.12444763, 1.157871  , 1.20538787, 1.24169373,\n",
       "       1.28345869])"
      ]
     },
     "execution_count": 43,
     "metadata": {},
     "output_type": "execute_result"
    }
   ],
   "source": [
    "model_ar = AR(prpos)\n",
    "model_ar_fit = model_ar.fit()\n",
    "model_ar_fit.predict(start = 10 , end=20)"
   ]
  },
  {
   "cell_type": "code",
   "execution_count": 44,
   "metadata": {},
   "outputs": [],
   "source": [
    "from statsmodels.tsa.arima_model import ARIMA\n",
    "import matplotlib.pyplot as plt\n"
   ]
  },
  {
   "cell_type": "code",
   "execution_count": 45,
   "metadata": {},
   "outputs": [],
   "source": [
    "def Arima(prpos,prneg, y,n):\n",
    "    model_arima = ARIMA(prpos[:n], order=(1,2,0))\n",
    "    model_arima_fit = model_arima.fit()\n",
    "    predP = model_arima_fit.forecast(steps = (10-n) )[0]\n",
    "    \n",
    "    model_arimaN = ARIMA(prneg[:n], order=(1,2,0))\n",
    "    model_arima_fitN = model_arimaN.fit()\n",
    "    predN = model_arima_fitN.forecast(steps = (10-n) )[0]\n",
    "    \n",
    "    x = [ i for i in range(1,11)]\n",
    "    yP = list(prpos[:n])+list(predP)\n",
    "    yN = list(prneg[:n])+list(predN)\n",
    "    plt.plot(x, yP,label='negative') # anorexique\n",
    "    plt.plot(x, yN,'-r', label='positive') #non anorexique\n",
    "    plt.legend(loc='upper right')\n",
    "    if y==1:\n",
    "        plt.title('ARIMA applied to an anorexic user in chunk '+str(n))\n",
    "    else:\n",
    "        plt.title('ARIMA applied to a non anorexic user in chunk '+str(n))\n",
    "\n",
    "    plt.show()"
   ]
  },
  {
   "cell_type": "code",
   "execution_count": 51,
   "metadata": {},
   "outputs": [
    {
     "name": "stderr",
     "output_type": "stream",
     "text": [
      "/home/nora/anaconda3/lib/python3.7/site-packages/scipy/signal/signaltools.py:1341: FutureWarning: Using a non-tuple sequence for multidimensional indexing is deprecated; use `arr[tuple(seq)]` instead of `arr[seq]`. In the future this will be interpreted as an array index, `arr[np.array(seq)]`, which will result either in an error or a different result.\n",
      "  out_full[ind] += zi\n",
      "/home/nora/anaconda3/lib/python3.7/site-packages/scipy/signal/signaltools.py:1344: FutureWarning: Using a non-tuple sequence for multidimensional indexing is deprecated; use `arr[tuple(seq)]` instead of `arr[seq]`. In the future this will be interpreted as an array index, `arr[np.array(seq)]`, which will result either in an error or a different result.\n",
      "  out = out_full[ind]\n",
      "/home/nora/anaconda3/lib/python3.7/site-packages/scipy/signal/signaltools.py:1350: FutureWarning: Using a non-tuple sequence for multidimensional indexing is deprecated; use `arr[tuple(seq)]` instead of `arr[seq]`. In the future this will be interpreted as an array index, `arr[np.array(seq)]`, which will result either in an error or a different result.\n",
      "  zf = out_full[ind]\n",
      "/home/nora/anaconda3/lib/python3.7/site-packages/statsmodels/base/model.py:488: HessianInversionWarning: Inverting hessian failed, no bse or cov_params available\n",
      "  'available', HessianInversionWarning)\n"
     ]
    },
    {
     "data": {
      "image/png": "[encoded data removed]",
      "text/plain": [
       "<Figure size 432x288 with 1 Axes>"
      ]
     },
     "metadata": {
      "needs_background": "light"
     },
     "output_type": "display_data"
    }
   ],
   "source": [
    "Arima(prpos,prneg,1,5)"
   ]
  },
  {
   "cell_type": "code",
   "execution_count": 47,
   "metadata": {},
   "outputs": [
    {
     "data": {
      "text/plain": [
       "array([5.54417719e-04, 3.20803466e-07, 3.97687504e-02, 1.62071702e-09,\n",
       "       2.18862175e-06, 1.54372043e-03, 7.25857329e-04, 5.23306696e-11,\n",
       "       5.04754502e-04, 7.63158571e-07])"
      ]
     },
     "execution_count": 47,
     "metadata": {},
     "output_type": "execute_result"
    }
   ],
   "source": [
    "prpos1 = np.array([ p[0] for p in testDic[0]])\n",
    "prneg1 = np.array([ p[1] for p in testDic[0]])\n",
    "prneg1"
   ]
  },
  {
   "cell_type": "code",
   "execution_count": 48,
   "metadata": {},
   "outputs": [
    {
     "name": "stderr",
     "output_type": "stream",
     "text": [
      "/home/nora/anaconda3/lib/python3.7/site-packages/statsmodels/base/model.py:508: ConvergenceWarning: Maximum Likelihood optimization failed to converge. Check mle_retvals\n",
      "  \"Check mle_retvals\", ConvergenceWarning)\n"
     ]
    },
    {
     "data": {
      "image/png": "[encoded data removed]",
      "text/plain": [
       "<Figure size 432x288 with 1 Axes>"
      ]
     },
     "metadata": {
      "needs_background": "light"
     },
     "output_type": "display_data"
    }
   ],
   "source": [
    "Arima(prpos1, prneg1,0,5)"
   ]
  },
  {
   "cell_type": "code",
   "execution_count": 49,
   "metadata": {},
   "outputs": [],
   "source": [
    "prbPos = np.array([ p[0] for p in lrG.predict_proba(XtestApp)])\n",
    "prbNeg =  np.array([ p[1] for p in lrG.predict_proba(XtestApp)])"
   ]
  },
  {
   "cell_type": "code",
   "execution_count": 50,
   "metadata": {},
   "outputs": [],
   "source": [
    "def ExtractPosNeg( Xtrain, Ytrain):\n",
    "    \n",
    "    label_encoder = LabelEncoder()\n",
    "    label_encoder.fit(Ytrain)\n",
    "    label_train = label_encoder.transform(Ytrain)\n",
    "\n",
    "    trainSubPos = []\n",
    "    trainSubNeg = []\n",
    "    for doc_id in range(len(Xtrain)):\n",
    "        if  Ytrain[doc_id] == 1 :\n",
    "            trainSubPos.append(model.infer_vector(Xtrain[doc_id]))\n",
    "        else:\n",
    "            trainSubNeg.append(model.infer_vector(Xtrain[doc_id]))\n",
    "    trainSubPos = np.array(trainSubPos)  \n",
    "    trainSubNeg = np.array(trainSubNeg)  \n",
    "\n",
    "    return trainSubPos ,  trainSubNeg,  label_train"
   ]
  },
  {
   "cell_type": "code",
   "execution_count": null,
   "metadata": {},
   "outputs": [],
   "source": [
    "XtrainAppPos, XtrainAppNeg , YtrainApp = ExtractPosNeg( Xtrain2App , Ytrain2App)\n",
    "XtestAppPos, XtestAppNeg , YtestApp = ExtractPosNeg( Xtest2App , Ytest2App)"
   ]
  },
  {
   "cell_type": "code",
   "execution_count": null,
   "metadata": {},
   "outputs": [],
   "source": [
    "from os import listdir\n",
    "from keras.preprocessing import sequence\n",
    "import tensorflow as tf\n",
    "from keras.models import Sequential\n",
    "from keras.layers import Dense\n",
    "from keras.layers import LSTM\n",
    "\n",
    "from keras.optimizers import Adam\n",
    "from keras.models import load_model\n",
    "from keras.callbacks import ModelCheckpoint"
   ]
  },
  {
   "cell_type": "code",
   "execution_count": null,
   "metadata": {},
   "outputs": [],
   "source": [
    "modelS = Sequential()"
   ]
  },
  {
   "cell_type": "code",
   "execution_count": null,
   "metadata": {},
   "outputs": [],
   "source": [
    "#trainSub , testSub, label_train, label_test\n",
    "seq_len = len(XtrainApp)"
   ]
  },
  {
   "cell_type": "code",
   "execution_count": null,
   "metadata": {},
   "outputs": [],
   "source": [
    "modelS.add(LSTM(XtrainApp.shape[0], input_shape=(1,XtrainApp.shape[1])))\n",
    "modelS.add(Dense(1, activation='sigmoid'))"
   ]
  },
  {
   "cell_type": "code",
   "execution_count": null,
   "metadata": {},
   "outputs": [],
   "source": [
    "modelS.summary()"
   ]
  },
  {
   "cell_type": "code",
   "execution_count": null,
   "metadata": {},
   "outputs": [],
   "source": [
    "adam = Adam(lr=0.001)\n",
    "chk = ModelCheckpoint('best_model.pkl', monitor='val_acc', save_best_only=True, mode='max', verbose=1)\n"
   ]
  },
  {
   "cell_type": "code",
   "execution_count": null,
   "metadata": {},
   "outputs": [],
   "source": [
    "modelS.compile(loss='binary_crossentropy', optimizer=adam, metrics=['accuracy'])\n"
   ]
  },
  {
   "cell_type": "code",
   "execution_count": null,
   "metadata": {},
   "outputs": [],
   "source": [
    "\n",
    "X_train = np.reshape(XtrainApp, (XtrainApp.shape[1], 1, XtrainApp.shape[0])).transpose()\n"
   ]
  },
  {
   "cell_type": "code",
   "execution_count": null,
   "metadata": {},
   "outputs": [],
   "source": [
    "Y_train = np.reshape(YtrainApp, (len(YtrainApp),1))"
   ]
  },
  {
   "cell_type": "code",
   "execution_count": null,
   "metadata": {},
   "outputs": [],
   "source": [
    "modelS.fit(X_train, YtrainApp, epochs=200,  callbacks=[chk])"
   ]
  },
  {
   "cell_type": "code",
   "execution_count": null,
   "metadata": {},
   "outputs": [],
   "source": [
    "def reshape_LSTM(X,Y):\n",
    "    X_t = np.reshape(X, (X.shape[1], 1, X.shape[0])).transpose()\n",
    "    Y_t = np.reshape(Y, (len(Y),1))\n",
    "    return X_t , Y_t"
   ]
  },
  {
   "cell_type": "code",
   "execution_count": null,
   "metadata": {},
   "outputs": [],
   "source": [
    "X_test , Y_test = reshape_LSTM(XtestApp,YtestApp)"
   ]
  },
  {
   "cell_type": "code",
   "execution_count": null,
   "metadata": {},
   "outputs": [],
   "source": [
    "from sklearn.metrics import accuracy_score"
   ]
  },
  {
   "cell_type": "code",
   "execution_count": null,
   "metadata": {},
   "outputs": [],
   "source": [
    "#loading the model and checking accuracy on the test data\n",
    "\n",
    "test_preds = modelS.predict_classes(X_test)\n",
    "print(\" le score est : \",accuracy_score(Y_test, test_preds))\n"
   ]
  },
  {
   "cell_type": "code",
   "execution_count": null,
   "metadata": {},
   "outputs": [],
   "source": [
    "F1(test_preds, Y_test)"
   ]
  }
 ],
 "metadata": {
  "kernelspec": {
   "display_name": "Python 3",
   "language": "python",
   "name": "python3"
  },
  "language_info": {
   "codemirror_mode": {
    "name": "ipython",
    "version": 3
   },
   "file_extension": ".py",
   "mimetype": "text/x-python",
   "name": "python",
   "nbconvert_exporter": "python",
   "pygments_lexer": "ipython3",
   "version": "3.6.5"
  }
 },
 "nbformat": 4,
 "nbformat_minor": 2
}
